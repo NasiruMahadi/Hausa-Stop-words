{
 "cells": [
  {
   "cell_type": "markdown",
   "metadata": {},
   "source": [
    "## These are list of Hausa Stop words "
   ]
  },
  {
   "cell_type": "code",
   "execution_count": 2,
   "metadata": {},
   "outputs": [],
   "source": [
    "HausaStopWords = [\n",
    "'kai',\n",
    "'kaima',\n",
    "'kowa',\n",
    "'kaina',\n",
    "'muna',\n",
    "'nawa',\n",
    "'naka',\n",
    "'naku',\n",
    "'kansa',\n",
    "'kanta',\n",
    "'shine',\n",
    "'kansa',\n",
    "'nasu',\n",
    "'nata',\n",
    "'kansu',\n",
    "'wanda',\n",
    "'wadanda',\n",
    "'wannan',\n",
    "'waccan',\n",
    "'wadannan',\n",
    "'amma',\n",
    "'idan',\n",
    "'domin',\n",
    "'kamar',\n",
    "'daga',\n",
    "'akan',\n",
    "'tsakanin',\n",
    "'cikin',\n",
    "'lokacin',\n",
    "'kafin',\n",
    "'bayan',\n",
    "'sama',\n",
    "'ƙasa',\n",
    "'kasa',\n",
    "'daga',\n",
    "'magana',\n",
    "'game', \n",
    "'kada',\n",
    "'karkashin',\n",
    "'acikin',\n",
    "'fita',\n",
    "'aƙarƙashin'\n",
    "'akarkashin',\n",
    "'sake',\n",
    "'ƙarin',\n",
    "'karin',  \n",
    "'ɗaya',\n",
    "'anan',\n",
    "'lokacin',\n",
    "'inda',\n",
    "'yadda',\n",
    "'suka',\n",
    "'take'\n",
    "]"
   ]
  }
 ],
 "metadata": {
  "kernelspec": {
   "display_name": "Arewadatascience",
   "language": "python",
   "name": "python3"
  },
  "language_info": {
   "codemirror_mode": {
    "name": "ipython",
    "version": 3
   },
   "file_extension": ".py",
   "mimetype": "text/x-python",
   "name": "python",
   "nbconvert_exporter": "python",
   "pygments_lexer": "ipython3",
   "version": "3.8.18"
  }
 },
 "nbformat": 4,
 "nbformat_minor": 2
}
